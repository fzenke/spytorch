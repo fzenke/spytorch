{
 "cells": [
  {
   "cell_type": "markdown",
   "metadata": {},
   "source": [
    "# Tutorial 3: Training a spiking neural network on a simple vision dataset\n",
    "\n",
    "Friedemann Zenke (https://fzenke.net)"
   ]
  },
  {
   "cell_type": "markdown",
   "metadata": {},
   "source": [
    "> For more details on surrogate gradient learning, please see: \n",
    "> Neftci, E.O., Mostafa, H., and Zenke, F. (2019). Surrogate Gradient Learning in Spiking Neural Networks.\n",
    "> https://arxiv.org/abs/1901.09948"
   ]
  },
  {
   "cell_type": "markdown",
   "metadata": {},
   "source": [
    "In Tutorial 2, we have seen how to train a simple multi-layer spiking neural network on the [Fashion MNIST dataset](https://github.com/zalandoresearch/fashion-mnist). However, the spiking activity in the hidden layer was not particularly plausible in a biological sense. Here we modify the network from this previous tutorial by adding activity regularizer, which encourages solutions with sparse spiking."
   ]
  },
  {
   "cell_type": "code",
   "execution_count": 2,
   "metadata": {},
   "outputs": [
    {
     "name": "stderr",
     "output_type": "stream",
     "text": [
      "c:\\Users\\smuel\\AppData\\Local\\Programs\\Python\\Python310\\lib\\site-packages\\tqdm\\auto.py:22: TqdmWarning: IProgress not found. Please update jupyter and ipywidgets. See https://ipywidgets.readthedocs.io/en/stable/user_install.html\n",
      "  from .autonotebook import tqdm as notebook_tqdm\n"
     ]
    }
   ],
   "source": [
    "import os\n",
    "\n",
    "import numpy as np\n",
    "import matplotlib.pyplot as plt\n",
    "from matplotlib.gridspec import GridSpec\n",
    "import seaborn as sns\n",
    "\n",
    "import torch\n",
    "import torch.nn as nn\n",
    "import torchvision\n"
   ]
  },
  {
   "cell_type": "code",
   "execution_count": 3,
   "metadata": {},
   "outputs": [],
   "source": [
    "# The coarse network structure is dicated by the Fashion MNIST dataset.\n",
    "nb_inputs = 28*28\n",
    "nb_hidden = 100\n",
    "nb_outputs = 10\n",
    "\n",
    "time_step = 1e-3\n",
    "nb_steps = 100\n",
    "\n",
    "batch_size = 256\n"
   ]
  },
  {
   "cell_type": "code",
   "execution_count": 4,
   "metadata": {},
   "outputs": [
    {
     "name": "stdout",
     "output_type": "stream",
     "text": [
      "Running on GPU.\n"
     ]
    }
   ],
   "source": [
    "dtype = torch.float\n",
    "\n",
    "# Check whether a GPU is available\n",
    "if torch.cuda.is_available():\n",
    "    device = torch.device(\"cuda\")\n",
    "    print('Running on GPU.')\n",
    "else:\n",
    "    device = torch.device(\"cpu\")\n",
    "    print('Running on CPU.')\n"
   ]
  },
  {
   "cell_type": "code",
   "execution_count": 5,
   "metadata": {},
   "outputs": [],
   "source": [
    "# Here we load the Dataset\n",
    "root = os.path.expanduser(\"~/data/datasets/torch/fashion-mnist\")\n",
    "train_dataset = torchvision.datasets.FashionMNIST(\n",
    "    root, train=True, transform=None, target_transform=None, download=True)\n",
    "test_dataset = torchvision.datasets.FashionMNIST(\n",
    "    root, train=False, transform=None, target_transform=None, download=True)\n"
   ]
  },
  {
   "cell_type": "code",
   "execution_count": 6,
   "metadata": {},
   "outputs": [],
   "source": [
    "# Standardize data\n",
    "# x_train = torch.tensor(train_dataset.train_data, device=device, dtype=dtype)\n",
    "x_train = np.array(train_dataset.data, dtype=float)\n",
    "x_train = x_train.reshape(x_train.shape[0], -1)/255\n",
    "# x_test = torch.tensor(test_dataset.test_data, device=device, dtype=dtype)\n",
    "x_test = np.array(test_dataset.data, dtype=float)\n",
    "x_test = x_test.reshape(x_test.shape[0], -1)/255\n",
    "\n",
    "# y_train = torch.tensor(train_dataset.train_labels, device=device, dtype=dtype)\n",
    "# y_test  = torch.tensor(test_dataset.test_labels, device=device, dtype=dtype)\n",
    "y_train = np.array(train_dataset.targets, dtype=int)\n",
    "y_test = np.array(test_dataset.targets, dtype=int)\n"
   ]
  },
  {
   "cell_type": "code",
   "execution_count": 7,
   "metadata": {},
   "outputs": [
    {
     "data": {
      "text/plain": [
       "(-0.5, 27.5, 27.5, -0.5)"
      ]
     },
     "execution_count": 7,
     "metadata": {},
     "output_type": "execute_result"
    },
    {
     "data": {
      "image/png": "[encoded data removed]",
      "text/plain": [
       "<Figure size 432x288 with 1 Axes>"
      ]
     },
     "metadata": {
      "needs_background": "light"
     },
     "output_type": "display_data"
    }
   ],
   "source": [
    "# Here we plot one of the raw data points as an example\n",
    "data_id = 1\n",
    "plt.imshow(x_train[data_id].reshape(28, 28), cmap=plt.cm.gray_r)\n",
    "plt.axis(\"off\")\n"
   ]
  },
  {
   "cell_type": "markdown",
   "metadata": {},
   "source": [
    "Since we are working with spiking neural networks, we ideally want to use a temporal code to make use of spike timing. To that end, we will use a spike latency code to feed spikes to our network."
   ]
  },
  {
   "cell_type": "code",
   "execution_count": 8,
   "metadata": {},
   "outputs": [],
   "source": [
    "def current2firing_time(x, tau=20, thr=0.2, tmax=1.0, epsilon=1e-7):\n",
    "    \"\"\" Computes first firing time latency for a current input x assuming the charge time of a current based LIF neuron.\n",
    "\n",
    "    Args:\n",
    "    x -- The \"current\" values\n",
    "\n",
    "    Keyword args:\n",
    "    tau -- The membrane time constant of the LIF neuron to be charged\n",
    "    thr -- The firing threshold value \n",
    "    tmax -- The maximum time returned \n",
    "    epsilon -- A generic (small) epsilon > 0\n",
    "\n",
    "    Returns:\n",
    "    Time to first spike for each \"current\" x\n",
    "    \"\"\"\n",
    "    idx = x < thr\n",
    "    x = np.clip(x, thr+epsilon, 1e9)\n",
    "    T = tau*np.log(x/(x-thr))\n",
    "    T[idx] = tmax\n",
    "    return T\n",
    "\n",
    "\n",
    "def sparse_data_generator(X, y, batch_size, nb_steps, nb_units, shuffle=True):\n",
    "    \"\"\" This generator takes datasets in analog format and generates spiking network input as sparse tensors. \n",
    "\n",
    "    Args:\n",
    "        X: The data ( sample x event x 2 ) the last dim holds (time,neuron) tuples\n",
    "        y: The labels\n",
    "    \"\"\"\n",
    "\n",
    "    _, labels_ = np.unique(y, return_inverse=True)\n",
    "    number_of_batches = len(X)//batch_size\n",
    "    sample_index = np.arange(len(X))\n",
    "\n",
    "    # compute discrete firing times\n",
    "    tau_eff = 20e-3/time_step\n",
    "    firing_times = np.array(current2firing_time(\n",
    "        X, tau=tau_eff, tmax=nb_steps), dtype=int)\n",
    "    unit_numbers = np.arange(nb_units)\n",
    "\n",
    "    if shuffle:\n",
    "        np.random.shuffle(sample_index)\n",
    "\n",
    "    total_batch_count = 0\n",
    "    counter = 0\n",
    "    while counter < number_of_batches:\n",
    "        batch_index = sample_index[batch_size*counter:batch_size*(counter+1)]\n",
    "\n",
    "        coo = [[] for i in range(3)]\n",
    "        for bc, idx in enumerate(batch_index):\n",
    "            c = firing_times[idx] < nb_steps\n",
    "            times, units = firing_times[idx][c], unit_numbers[c]\n",
    "\n",
    "            batch = [bc for _ in range(len(times))]\n",
    "            coo[0].extend(batch)\n",
    "            coo[1].extend(times)\n",
    "            coo[2].extend(units)\n",
    "\n",
    "        i = torch.LongTensor(coo).to(device)\n",
    "        v = torch.FloatTensor(np.ones(len(coo[0]))).to(device)\n",
    "\n",
    "        X_batch = torch.sparse.FloatTensor(i, v, torch.Size(\n",
    "            [batch_size, nb_steps, nb_units])).to(device)\n",
    "        y_batch = torch.tensor(labels_[batch_index], device=device)\n",
    "\n",
    "        yield X_batch.to(device=device), y_batch.to(device=device)\n",
    "\n",
    "        counter += 1\n"
   ]
  },
  {
   "cell_type": "markdown",
   "metadata": {},
   "source": [
    "### Setup of the spiking network model"
   ]
  },
  {
   "cell_type": "code",
   "execution_count": 9,
   "metadata": {},
   "outputs": [],
   "source": [
    "tau_mem = 10e-3\n",
    "tau_syn = 5e-3\n",
    "\n",
    "alpha = float(np.exp(-time_step/tau_syn))\n",
    "beta = float(np.exp(-time_step/tau_mem))\n"
   ]
  },
  {
   "cell_type": "code",
   "execution_count": 10,
   "metadata": {},
   "outputs": [
    {
     "name": "stdout",
     "output_type": "stream",
     "text": [
      "init done\n"
     ]
    }
   ],
   "source": [
    "weight_scale = 0.2\n",
    "\n",
    "w1 = torch.empty((nb_inputs, nb_hidden),  device=device,\n",
    "                 dtype=dtype, requires_grad=True)\n",
    "torch.nn.init.normal_(w1, mean=0.0, std=weight_scale/np.sqrt(nb_inputs))\n",
    "\n",
    "w2 = torch.empty((nb_hidden, nb_outputs), device=device,\n",
    "                 dtype=dtype, requires_grad=True)\n",
    "torch.nn.init.normal_(w2, mean=0.0, std=weight_scale/np.sqrt(nb_hidden))\n",
    "\n",
    "print(\"init done\")\n"
   ]
  },
  {
   "cell_type": "code",
   "execution_count": 11,
   "metadata": {},
   "outputs": [],
   "source": [
    "def plot_voltage_traces(mem, spk=None, dim=(3, 5), spike_height=5):\n",
    "    gs = GridSpec(*dim)\n",
    "    if spk is not None:\n",
    "        dat = 1.0*mem\n",
    "        dat[spk > 0.0] = spike_height\n",
    "        dat = dat.detach().cpu().numpy()\n",
    "    else:\n",
    "        dat = mem.detach().cpu().numpy()\n",
    "    for i in range(np.prod(dim)):\n",
    "        if i == 0:\n",
    "            a0 = ax = plt.subplot(gs[i])\n",
    "        else:\n",
    "            ax = plt.subplot(gs[i], sharey=a0)\n",
    "        ax.plot(dat[i])\n",
    "        ax.axis(\"off\")\n"
   ]
  },
  {
   "cell_type": "markdown",
   "metadata": {},
   "source": [
    "## Training the network"
   ]
  },
  {
   "cell_type": "code",
   "execution_count": 12,
   "metadata": {},
   "outputs": [],
   "source": [
    "class SurrGradSpike(torch.autograd.Function):\n",
    "    \"\"\"\n",
    "    Here we implement our spiking nonlinearity which also implements \n",
    "    the surrogate gradient. By subclassing torch.autograd.Function, \n",
    "    we will be able to use all of PyTorch's autograd functionality.\n",
    "    Here we use the normalized negative part of a fast sigmoid \n",
    "    as this was done in Zenke & Ganguli (2018).\n",
    "    \"\"\"\n",
    "\n",
    "    scale = 100.0  # controls steepness of surrogate gradient\n",
    "\n",
    "    @staticmethod\n",
    "    def forward(ctx, input):\n",
    "        \"\"\"\n",
    "        In the forward pass we compute a step function of the input Tensor\n",
    "        and return it. ctx is a context object that we use to stash information which \n",
    "        we need to later backpropagate our error signals. To achieve this we use the \n",
    "        ctx.save_for_backward method.\n",
    "        \"\"\"\n",
    "        ctx.save_for_backward(input)\n",
    "        out = torch.zeros_like(input)\n",
    "        out[input > 0] = 1.0\n",
    "        return out\n",
    "\n",
    "    @staticmethod\n",
    "    def backward(ctx, grad_output):\n",
    "        \"\"\"\n",
    "        In the backward pass we receive a Tensor we need to compute the \n",
    "        surrogate gradient of the loss with respect to the input. \n",
    "        Here we use the normalized negative part of a fast sigmoid \n",
    "        as this was done in Zenke & Ganguli (2018).\n",
    "        \"\"\"\n",
    "        input, = ctx.saved_tensors\n",
    "        grad_input = grad_output.clone()\n",
    "        grad = grad_input/(SurrGradSpike.scale*torch.abs(input)+1.0)**2\n",
    "        return grad\n",
    "\n",
    "\n",
    "# here we overwrite our naive spike function by the \"SurrGradSpike\" nonlinearity which implements a surrogate gradient\n",
    "spike_fn = SurrGradSpike.apply\n"
   ]
  },
  {
   "cell_type": "code",
   "execution_count": 13,
   "metadata": {},
   "outputs": [],
   "source": [
    "def run_snn(inputs):\n",
    "    # Hidden layer\n",
    "    h1 = torch.einsum(\"abc,cd->abd\", (inputs, w1))\n",
    "    syn = torch.zeros((batch_size, nb_hidden), device=device, dtype=dtype)\n",
    "    mem = torch.zeros((batch_size, nb_hidden), device=device, dtype=dtype)\n",
    "    mem_rec = []\n",
    "    spk_rec = []\n",
    "\n",
    "    # Readout layer\n",
    "    flt = torch.zeros((batch_size, nb_outputs), device=device, dtype=dtype)\n",
    "    out_out = torch.zeros((batch_size, nb_outputs), device=device, dtype=dtype)\n",
    "    out_rec = [out_out]\n",
    "\n",
    "    # Compute network activity over time\n",
    "    for t in range(nb_steps):\n",
    "        # Hidden layer\n",
    "        mthr = mem-1.0\n",
    "        out = spike_fn(mthr)\n",
    "        rst = out.detach()  # We do not want to backprop through the reset\n",
    "\n",
    "        new_syn = alpha*syn + h1[:, t]\n",
    "        new_mem = (beta*mem + syn)*(1.0-rst)\n",
    "\n",
    "        mem_rec.append(mem)\n",
    "        spk_rec.append(out)\n",
    "\n",
    "        mem = new_mem\n",
    "        syn = new_syn\n",
    "\n",
    "        # Readout layer\n",
    "        h2 = torch.einsum(\"ab,bc->ac\", (out, w2))\n",
    "\n",
    "        new_flt = alpha*flt + h2\n",
    "        new_out = beta*out_out + flt\n",
    "\n",
    "        flt = new_flt\n",
    "        out_out = new_out\n",
    "\n",
    "        out_rec.append(out_out)\n",
    "\n",
    "    mem_rec = torch.stack(mem_rec, dim=1)\n",
    "    spk_rec = torch.stack(spk_rec, dim=1)\n",
    "\n",
    "    out_rec = torch.stack(out_rec, dim=1)\n",
    "    other_recs = [mem_rec, spk_rec]\n",
    "    return out_rec, other_recs\n"
   ]
  },
  {
   "cell_type": "code",
   "execution_count": 14,
   "metadata": {},
   "outputs": [],
   "source": [
    "def train(x_data, y_data, lr=1e-3, nb_epochs=10):\n",
    "    params = [w1, w2]\n",
    "    optimizer = torch.optim.Adamax(params, lr=lr, betas=(0.9, 0.999))\n",
    "\n",
    "    log_softmax_fn = nn.LogSoftmax(dim=1)\n",
    "    loss_fn = nn.NLLLoss()\n",
    "\n",
    "    loss_hist = []\n",
    "    for e in range(nb_epochs):\n",
    "        local_loss = []\n",
    "        for x_local, y_local in sparse_data_generator(x_data, y_data, batch_size, nb_steps, nb_inputs):\n",
    "            output, recs = run_snn(x_local.to_dense())\n",
    "            _, spks = recs\n",
    "            m, _ = torch.max(output, 1)\n",
    "            log_p_y = log_softmax_fn(m)\n",
    "\n",
    "            # Here we set up our regularizer loss\n",
    "            # The strength paramters here are merely a guess and there should be ample room for improvement by\n",
    "            # tuning these paramters.\n",
    "            # L1 loss on total number of spikes\n",
    "            reg_loss = 1e-5*torch.sum(spks)\n",
    "            # L2 loss on spikes per neuron\n",
    "            reg_loss += 1e-5 * \\\n",
    "                torch.mean(torch.sum(torch.sum(spks, dim=0), dim=0)**2)\n",
    "\n",
    "            # Here we combine supervised loss and the regularizer\n",
    "            loss_val = loss_fn(log_p_y, y_local) + reg_loss\n",
    "\n",
    "            optimizer.zero_grad()\n",
    "            loss_val.backward()\n",
    "            optimizer.step()\n",
    "            local_loss.append(loss_val.item())\n",
    "        mean_loss = np.mean(local_loss)\n",
    "        print(\"Epoch %i: loss=%.5f\" % (e+1, mean_loss))\n",
    "        loss_hist.append(mean_loss)\n",
    "\n",
    "    return loss_hist\n",
    "\n",
    "\n",
    "def compute_classification_accuracy(x_data, y_data):\n",
    "    \"\"\" Computes classification accuracy on supplied data in batches. \"\"\"\n",
    "    accs = []\n",
    "    for x_local, y_local in sparse_data_generator(x_data, y_data, batch_size, nb_steps, nb_inputs, shuffle=False):\n",
    "        output, _ = run_snn(x_local.to_dense())\n",
    "        m, _ = torch.max(output, 1)  # max over time\n",
    "        _, am = torch.max(m, 1)      # argmax over output units\n",
    "        # compare to labels\n",
    "        tmp = np.mean((y_local == am).detach().cpu().numpy())\n",
    "        accs.append(tmp)\n",
    "    return np.mean(accs)\n"
   ]
  },
  {
   "cell_type": "code",
   "execution_count": 15,
   "metadata": {},
   "outputs": [
    {
     "name": "stdout",
     "output_type": "stream",
     "text": [
      "Epoch 1: loss=2.03115\n",
      "Epoch 2: loss=1.56452\n",
      "Epoch 3: loss=1.27515\n",
      "Epoch 4: loss=1.07653\n",
      "Epoch 5: loss=0.90417\n",
      "Epoch 6: loss=0.81789\n",
      "Epoch 7: loss=0.76027\n",
      "Epoch 8: loss=0.71734\n",
      "Epoch 9: loss=0.68629\n",
      "Epoch 10: loss=0.66043\n",
      "Epoch 11: loss=0.63861\n",
      "Epoch 12: loss=0.62155\n",
      "Epoch 13: loss=0.60661\n",
      "Epoch 14: loss=0.59345\n",
      "Epoch 15: loss=0.58150\n",
      "Epoch 16: loss=0.57131\n",
      "Epoch 17: loss=0.56241\n",
      "Epoch 18: loss=0.55242\n",
      "Epoch 19: loss=0.54606\n",
      "Epoch 20: loss=0.53948\n",
      "Epoch 21: loss=0.53139\n",
      "Epoch 22: loss=0.52553\n",
      "Epoch 23: loss=0.52015\n",
      "Epoch 24: loss=0.51436\n",
      "Epoch 25: loss=0.51014\n",
      "Epoch 26: loss=0.50595\n",
      "Epoch 27: loss=0.50211\n",
      "Epoch 28: loss=0.49635\n",
      "Epoch 29: loss=0.49295\n",
      "Epoch 30: loss=0.48741\n",
      "Epoch 31: loss=0.48393\n",
      "Epoch 32: loss=0.47981\n",
      "Epoch 33: loss=0.47735\n",
      "Epoch 34: loss=0.47256\n",
      "Epoch 35: loss=0.47012\n",
      "Epoch 36: loss=0.46647\n",
      "Epoch 37: loss=0.46249\n",
      "Epoch 38: loss=0.46080\n",
      "Epoch 39: loss=0.45701\n",
      "Epoch 40: loss=0.45453\n",
      "Epoch 41: loss=0.45037\n",
      "Epoch 42: loss=0.44866\n",
      "Epoch 43: loss=0.44624\n",
      "Epoch 44: loss=0.44408\n",
      "Epoch 45: loss=0.44079\n",
      "Epoch 46: loss=0.43817\n",
      "Epoch 47: loss=0.43582\n",
      "Epoch 48: loss=0.43376\n",
      "Epoch 49: loss=0.43239\n",
      "Epoch 50: loss=0.42811\n",
      "Epoch 51: loss=0.42740\n",
      "Epoch 52: loss=0.42454\n",
      "Epoch 53: loss=0.42298\n",
      "Epoch 54: loss=0.42321\n",
      "Epoch 55: loss=0.41925\n",
      "Epoch 56: loss=0.41805\n",
      "Epoch 57: loss=0.41717\n",
      "Epoch 58: loss=0.41511\n",
      "Epoch 59: loss=0.41295\n",
      "Epoch 60: loss=0.41106\n",
      "Epoch 61: loss=0.40976\n",
      "Epoch 62: loss=0.41002\n",
      "Epoch 63: loss=0.40617\n",
      "Epoch 64: loss=0.40553\n",
      "Epoch 65: loss=0.40404\n",
      "Epoch 66: loss=0.40248\n",
      "Epoch 67: loss=0.40062\n",
      "Epoch 68: loss=0.39996\n",
      "Epoch 69: loss=0.39855\n",
      "Epoch 70: loss=0.39774\n",
      "Epoch 71: loss=0.39441\n",
      "Epoch 72: loss=0.39371\n",
      "Epoch 73: loss=0.39278\n",
      "Epoch 74: loss=0.39042\n",
      "Epoch 75: loss=0.39083\n",
      "Epoch 76: loss=0.39029\n",
      "Epoch 77: loss=0.38709\n",
      "Epoch 78: loss=0.38475\n",
      "Epoch 79: loss=0.38409\n",
      "Epoch 80: loss=0.38296\n",
      "Epoch 81: loss=0.38103\n",
      "Epoch 82: loss=0.37987\n",
      "Epoch 83: loss=0.37958\n",
      "Epoch 84: loss=0.37857\n",
      "Epoch 85: loss=0.37469\n",
      "Epoch 86: loss=0.37451\n",
      "Epoch 87: loss=0.37479\n",
      "Epoch 88: loss=0.37272\n",
      "Epoch 89: loss=0.37187\n",
      "Epoch 90: loss=0.37027\n",
      "Epoch 91: loss=0.36973\n",
      "Epoch 92: loss=0.36827\n",
      "Epoch 93: loss=0.36558\n",
      "Epoch 94: loss=0.36569\n",
      "Epoch 95: loss=0.36426\n",
      "Epoch 96: loss=0.36537\n",
      "Epoch 97: loss=0.36189\n",
      "Epoch 98: loss=0.35996\n",
      "Epoch 99: loss=0.36117\n",
      "Epoch 100: loss=0.35939\n",
      "Epoch 101: loss=0.35832\n",
      "Epoch 102: loss=0.35812\n",
      "Epoch 103: loss=0.35644\n",
      "Epoch 104: loss=0.35533\n",
      "Epoch 105: loss=0.35407\n",
      "Epoch 106: loss=0.35312\n",
      "Epoch 107: loss=0.35264\n",
      "Epoch 108: loss=0.35047\n",
      "Epoch 109: loss=0.35163\n",
      "Epoch 110: loss=0.35007\n",
      "Epoch 111: loss=0.35094\n",
      "Epoch 112: loss=0.34662\n",
      "Epoch 113: loss=0.34852\n",
      "Epoch 114: loss=0.34759\n",
      "Epoch 115: loss=0.34802\n",
      "Epoch 116: loss=0.34509\n",
      "Epoch 117: loss=0.34408\n",
      "Epoch 118: loss=0.34270\n",
      "Epoch 119: loss=0.34101\n",
      "Epoch 120: loss=0.34101\n",
      "Epoch 121: loss=0.34033\n",
      "Epoch 122: loss=0.34195\n",
      "Epoch 123: loss=0.33965\n",
      "Epoch 124: loss=0.33865\n",
      "Epoch 125: loss=0.33748\n",
      "Epoch 126: loss=0.33720\n",
      "Epoch 127: loss=0.33796\n",
      "Epoch 128: loss=0.33486\n",
      "Epoch 129: loss=0.33441\n",
      "Epoch 130: loss=0.33370\n",
      "Epoch 131: loss=0.33426\n",
      "Epoch 132: loss=0.33385\n",
      "Epoch 133: loss=0.33077\n",
      "Epoch 134: loss=0.33153\n",
      "Epoch 135: loss=0.33203\n",
      "Epoch 136: loss=0.32919\n",
      "Epoch 137: loss=0.32836\n",
      "Epoch 138: loss=0.32854\n",
      "Epoch 139: loss=0.32945\n",
      "Epoch 140: loss=0.32860\n",
      "Epoch 141: loss=0.32616\n",
      "Epoch 142: loss=0.32577\n",
      "Epoch 143: loss=0.32445\n",
      "Epoch 144: loss=0.32376\n",
      "Epoch 145: loss=0.32394\n",
      "Epoch 146: loss=0.32327\n",
      "Epoch 147: loss=0.32174\n",
      "Epoch 148: loss=0.32255\n",
      "Epoch 149: loss=0.32055\n",
      "Epoch 150: loss=0.31992\n",
      "Epoch 151: loss=0.31958\n",
      "Epoch 152: loss=0.31798\n",
      "Epoch 153: loss=0.31866\n",
      "Epoch 154: loss=0.31757\n",
      "Epoch 155: loss=0.31690\n",
      "Epoch 156: loss=0.31694\n",
      "Epoch 157: loss=0.31701\n",
      "Epoch 158: loss=0.31644\n",
      "Epoch 159: loss=0.31461\n",
      "Epoch 160: loss=0.31581\n",
      "Epoch 161: loss=0.31301\n",
      "Epoch 162: loss=0.31326\n",
      "Epoch 163: loss=0.31244\n",
      "Epoch 164: loss=0.31171\n",
      "Epoch 165: loss=0.31127\n",
      "Epoch 166: loss=0.31111\n",
      "Epoch 167: loss=0.30852\n",
      "Epoch 168: loss=0.31013\n",
      "Epoch 169: loss=0.30951\n",
      "Epoch 170: loss=0.30903\n",
      "Epoch 171: loss=0.30815\n",
      "Epoch 172: loss=0.30717\n",
      "Epoch 173: loss=0.30701\n",
      "Epoch 174: loss=0.30842\n",
      "Epoch 175: loss=0.30577\n",
      "Epoch 176: loss=0.30654\n",
      "Epoch 177: loss=0.30563\n",
      "Epoch 178: loss=0.30506\n",
      "Epoch 179: loss=0.30413\n",
      "Epoch 180: loss=0.30363\n",
      "Epoch 181: loss=0.30254\n",
      "Epoch 182: loss=0.30276\n",
      "Epoch 183: loss=0.30243\n",
      "Epoch 184: loss=0.30146\n",
      "Epoch 185: loss=0.30212\n",
      "Epoch 186: loss=0.30130\n",
      "Epoch 187: loss=0.29963\n",
      "Epoch 188: loss=0.29914\n",
      "Epoch 189: loss=0.29868\n",
      "Epoch 190: loss=0.29809\n",
      "Epoch 191: loss=0.29877\n",
      "Epoch 192: loss=0.29981\n",
      "Epoch 193: loss=0.29718\n",
      "Epoch 194: loss=0.29707\n",
      "Epoch 195: loss=0.29568\n",
      "Epoch 196: loss=0.29574\n",
      "Epoch 197: loss=0.29533\n",
      "Epoch 198: loss=0.29422\n",
      "Epoch 199: loss=0.29638\n",
      "Epoch 200: loss=0.29380\n"
     ]
    }
   ],
   "source": [
    "loss_hist = train(x_train, y_train, lr=2e-4, nb_epochs=200)\n"
   ]
  },
  {
   "cell_type": "code",
   "execution_count": 16,
   "metadata": {},
   "outputs": [
    {
     "data": {
      "image/png": "[encoded data removed]",
      "text/plain": [
       "<Figure size 495x300 with 1 Axes>"
      ]
     },
     "metadata": {
      "needs_background": "light"
     },
     "output_type": "display_data"
    }
   ],
   "source": [
    "plt.figure(figsize=(3.3, 2), dpi=150)\n",
    "plt.plot(loss_hist)\n",
    "plt.xlabel(\"Epoch\")\n",
    "plt.ylabel(\"Loss\")\n",
    "sns.despine()\n"
   ]
  },
  {
   "cell_type": "code",
   "execution_count": 17,
   "metadata": {},
   "outputs": [
    {
     "name": "stdout",
     "output_type": "stream",
     "text": [
      "Training accuracy: 0.912\n",
      "Test accuracy: 0.842\n"
     ]
    }
   ],
   "source": [
    "print(\"Training accuracy: %.3f\" %\n",
    "      (compute_classification_accuracy(x_train, y_train)))\n",
    "print(\"Test accuracy: %.3f\" %\n",
    "      (compute_classification_accuracy(x_test, y_test)))\n"
   ]
  },
  {
   "cell_type": "code",
   "execution_count": 18,
   "metadata": {},
   "outputs": [],
   "source": [
    "def get_mini_batch(x_data, y_data, shuffle=False):\n",
    "    for ret in sparse_data_generator(x_data, y_data, batch_size, nb_steps, nb_inputs, shuffle=shuffle):\n",
    "        return ret\n"
   ]
  },
  {
   "cell_type": "code",
   "execution_count": 19,
   "metadata": {},
   "outputs": [],
   "source": [
    "x_batch, y_batch = get_mini_batch(x_test, y_test)\n",
    "output, other_recordings = run_snn(x_batch.to_dense())\n",
    "mem_rec, spk_rec = other_recordings\n"
   ]
  },
  {
   "cell_type": "code",
   "execution_count": 20,
   "metadata": {},
   "outputs": [
    {
     "data": {
      "image/png": "[encoded data removed]",
      "text/plain": [
       "<Figure size 600x400 with 15 Axes>"
      ]
     },
     "metadata": {
      "needs_background": "light"
     },
     "output_type": "display_data"
    }
   ],
   "source": [
    "fig = plt.figure(dpi=100)\n",
    "plot_voltage_traces(output)\n"
   ]
  },
  {
   "cell_type": "code",
   "execution_count": 21,
   "metadata": {},
   "outputs": [
    {
     "data": {
      "image/png": "[encoded data removed]",
      "text/plain": [
       "<Figure size 1050x450 with 4 Axes>"
      ]
     },
     "metadata": {
      "needs_background": "light"
     },
     "output_type": "display_data"
    }
   ],
   "source": [
    "# Let's plot the hiddden layer spiking activity for some input stimuli\n",
    "\n",
    "nb_plt = 4\n",
    "gs = GridSpec(1, nb_plt)\n",
    "fig = plt.figure(figsize=(7, 3), dpi=150)\n",
    "for i in range(nb_plt):\n",
    "    plt.subplot(gs[i])\n",
    "    plt.imshow(spk_rec[i].detach().cpu().numpy().T,\n",
    "               cmap=plt.cm.gray_r, origin=\"lower\")\n",
    "    if i == 0:\n",
    "        plt.xlabel(\"Time\")\n",
    "        plt.ylabel(\"Units\")\n",
    "\n",
    "    sns.despine()\n"
   ]
  },
  {
   "cell_type": "markdown",
   "metadata": {},
   "source": [
    "Compared to the hidden layer activity in our previous Tutorial 2, we can now appreciate that spiking in the hidden layer is much sparser.\n",
    "\n",
    "In the next tutorial notebook, we will apply the same training paradigm to the Heidelberg Digits, a realistic speech dataset generated from spoken digits processed through a plausible cochlea model."
   ]
  },
  {
   "cell_type": "markdown",
   "metadata": {},
   "source": [
    "<a rel=\"license\" href=\"http://creativecommons.org/licenses/by/4.0/\"><img alt=\"Creative Commons License\" style=\"border-width:0\" src=\"https://i.creativecommons.org/l/by/4.0/88x31.png\" /></a><br />This work is licensed under a <a rel=\"license\" href=\"http://creativecommons.org/licenses/by/4.0/\">Creative Commons Attribution 4.0 International License</a>."
   ]
  },
  {
   "cell_type": "code",
   "execution_count": null,
   "metadata": {},
   "outputs": [],
   "source": []
  }
 ],
 "metadata": {
  "kernelspec": {
   "display_name": "Python 3",
   "language": "python",
   "name": "python3"
  },
  "language_info": {
   "codemirror_mode": {
    "name": "ipython",
    "version": 3
   },
   "file_extension": ".py",
   "mimetype": "text/x-python",
   "name": "python",
   "nbconvert_exporter": "python",
   "pygments_lexer": "ipython3",
   "version": "3.10.4"
  }
 },
 "nbformat": 4,
 "nbformat_minor": 2
}
